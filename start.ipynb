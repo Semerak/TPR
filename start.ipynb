{
 "cells": [
  {
   "cell_type": "code",
   "execution_count": 1,
   "metadata": {},
   "outputs": [],
   "source": [
    "from kr import strategies,distribution,podushnyi_podatok,rivnevyi_podatok,N_yadro"
   ]
  },
  {
   "cell_type": "markdown",
   "metadata": {},
   "source": [
    "### Перше завдання\n",
    "Вводите умову задачі в табличку і запускаєте функцію strategies. В результаті виводяться розв'язки для всіх методів. Шукайте ваш варіант"
   ]
  },
  {
   "cell_type": "code",
   "execution_count": 2,
   "metadata": {},
   "outputs": [
    {
     "name": "stdout",
     "output_type": "stream",
     "text": [
      "\tb1\tb2\tb3\tb4\n",
      "a1\t5, 6\t3, 7\t3, 6\t3, 3\n",
      "a2\t4, 7\t5, 7\t6, 5\t6, 6\n",
      "a3\t5, 5\t5, 6\t4, 4\t6, 7\n",
      "a4\t4, 8\t5, 7\t3, 8\t2, 1\n",
      "\n",
      "D1: \tØ\n",
      "D2: \tØ\n",
      "D: \tØ\n",
      "ND1: \t{(a2, b1), (a2, b2), (a2, b3), (a2, b4), (a3, b1), (a3, b2), (a3, b3), (a3, b4)}\n",
      "ND2: \t{(a1, b1), (a1, b2), (a1, b4), (a2, b1), (a2, b2), (a2, b4), (a3, b1), (a3, b2), (a3, b4), (a4, b1), (a4, b2), (a4, b4)}\n",
      "ND: \t{(a2, b1), (a2, b2), (a2, b4), (a3, b1), (a3, b2), (a3, b4)}\n",
      "O1: \t{(a2, b1), (a2, b2), (a2, b3), (a2, b4), (a3, b1), (a3, b2), (a3, b3), (a3, b4)}\n",
      "O2: \t{(a1, b2), (a2, b2), (a3, b2), (a4, b2)}\n",
      "O: \t{(a2, b2), (a3, b2)}\n",
      "IR: \t{(a1, b1), (a2, b1), (a2, b2), (a2, b4), (a3, b2), (a3, b4), (a4, b1), (a4, b2)}\n",
      "PO: \t{(a3, b4), (a4, b1)}\n",
      "П: \t{(a3, b4), (a4, b1)}\n",
      "SPO: \tØ\n",
      "OP1: \t{(a3, b4)}\n",
      "OP2: \tØ\n",
      "NE: \t{(a2, b2), (a3, b4)}\n",
      "SNE: \t{(a3, b4)}\n",
      "SE: \tØ\n",
      "ShE1: \t{(a3, b4)}\n",
      "ShE2: \t{(a2, b2), (a4, b2), (a3, b4)}\n"
     ]
    }
   ],
   "source": [
    "table_raw=[\n",
    " [[5,6], [3,7], [3,6], [3,3]],\n",
    " [[4,7], [5,7], [6,5], [6,6]],\n",
    " [[5,5], [5,6], [4,4], [6,7]],\n",
    " [[4,8], [5,7], [3,8], [2,1]]\n",
    "]\n",
    "\n",
    "strategies(table_raw)"
   ]
  },
  {
   "cell_type": "markdown",
   "metadata": {},
   "source": [
    "### Друге завдання\n",
    "Вводите умову. Результат і є весь розв'язок"
   ]
  },
  {
   "cell_type": "code",
   "execution_count": 3,
   "metadata": {},
   "outputs": [
    {
     "name": "stdout",
     "output_type": "stream",
     "text": [
      "K =  3\n",
      "B =  [5, 3, 9]\n",
      "C =  7\n",
      "\n",
      "\t\t\t   1  2  3\n",
      "(1, 2, 3) \t|\t ( 5,  2,  0 )\n",
      "(1, 3, 2) \t|\t ( 5,  0,  2 )\n",
      "(2, 1, 3) \t|\t ( 4,  3,  0 )\n",
      "(2, 3, 1) \t|\t ( 0,  3,  4 )\n",
      "(3, 1, 2) \t|\t ( 0,  0,  7 )\n",
      "(3, 2, 1) \t|\t ( 0,  0,  7 )\n",
      "\t\t\t 7/3 +4/3 +10/3  =  7\n",
      "\n",
      "Вектор Шеплі: ( 7/3, 4/3, 10/3 )\n"
     ]
    }
   ],
   "source": [
    "K=3\n",
    "B=[5,3,9]\n",
    "C=7\n",
    "distribution(K,B,C)"
   ]
  },
  {
   "cell_type": "markdown",
   "metadata": {},
   "source": [
    "### Завдання 3\n",
    "Вводите умову і розкоменчуєте потрібний варіант. Програма видає повний розв'язок"
   ]
  },
  {
   "cell_type": "code",
   "execution_count": 6,
   "metadata": {},
   "outputs": [
    {
     "name": "stdout",
     "output_type": "stream",
     "text": [
      "B = ( 2, 5, 1, 13, 18 )\n",
      "C =  28\n",
      "\n",
      "C ≥ ½ Σbi\n",
      "рівневий метод\n",
      "1)\n",
      "\tλ ≤ b₁\n",
      "\t5*λ = 11\n",
      "\tλ = 11/5\n",
      "\tx₁ = 1/2\n",
      "2)\n",
      "\tb₁ < λ ≤ b₂\n",
      "\t4*λ = 21/2\n",
      "\tλ = 21/8\n",
      "\tx₂ = 1\n",
      "3)\n",
      "\tb₂ < λ ≤ b₃\n",
      "\t3*λ = 19/2\n",
      "\tλ = 19/6\n",
      "\tx₃ = 5/2\n",
      "4)\n",
      "\tb₃ < λ ≤ b₄\n",
      "\t2*λ = 7\n",
      "\tλ = 7/2\n",
      "\tx₄ = 19/2\n",
      "5)\n",
      "\tb₅ < λ\n",
      "\t1*λ = 7/2\n",
      "\tλ = 7/2\n",
      "\tx₅ = 29/2\n",
      "X = (1/2, 1, 5/2, 19/2, 29/2) - податки\n",
      "X* = (1, 5/2, 1/2, 19/2, 29/2) - впорядковані податки\n",
      "(1, 5/2, 1/2, 7/2, 7/2) - залишок\n"
     ]
    }
   ],
   "source": [
    "B=[2,5,1,13,18]\n",
    "C=28\n",
    "\n",
    "#podushnyi_podatok(B,C)\n",
    "\n",
    "#rivnevyi_podatok(B,C)\n",
    "\n",
    "N_yadro(B,C)"
   ]
  }
 ],
 "metadata": {
  "kernelspec": {
   "display_name": "Python 3",
   "language": "python",
   "name": "python3"
  },
  "language_info": {
   "codemirror_mode": {
    "name": "ipython",
    "version": 3
   },
   "file_extension": ".py",
   "mimetype": "text/x-python",
   "name": "python",
   "nbconvert_exporter": "python",
   "pygments_lexer": "ipython3",
   "version": "3.6.6"
  }
 },
 "nbformat": 4,
 "nbformat_minor": 2
}
